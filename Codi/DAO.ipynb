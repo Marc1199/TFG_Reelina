{
 "cells": [
  {
   "cell_type": "code",
   "execution_count": 2,
   "metadata": {},
   "outputs": [
    {
     "name": "stderr",
     "output_type": "stream",
     "text": [
      "C:\\Users\\marct\\AppData\\Local\\Packages\\PythonSoftwareFoundation.Python.3.11_qbz5n2kfra8p0\\LocalCache\\local-packages\\Python311\\site-packages\\MDAnalysis\\topology\\TOPParser.py:307: UserWarning: Unknown ATOMIC_NUMBER value found for some atoms, these have been given an empty element record. If needed these can be guessed using universe.guess_TopologyAttrs(to_guess=['elements']).\n",
      "  warnings.warn(msg)\n"
     ]
    },
    {
     "data": {
      "text/plain": [
       "142"
      ]
     },
     "execution_count": 2,
     "metadata": {},
     "output_type": "execute_result"
    }
   ],
   "source": [
    "import MDAnalysis as mda\n",
    "from MDAnalysis.analysis.hydrogenbonds.hbond_analysis import HydrogenBondAnalysis as HBA\n",
    "import matplotlib.pyplot as plt\n",
    "\n",
    "# Cargar el archivo de topología y trayectoria\n",
    "u = mda.Universe('C:\\TFG_Dades_prac\\dao_noNAG.parm7','C:/TFG_Dades_prac/mddao_noNAG_01.nc')\n",
    "\n",
    "sel = u.select_atoms('name OD1')\n",
    "n_sel = len(sel)\n",
    "n_sel\n"
   ]
  },
  {
   "cell_type": "code",
   "execution_count": 3,
   "metadata": {},
   "outputs": [
    {
     "ename": "AttributeError",
     "evalue": "AtomGroup has no attribute trajectory. ",
     "output_type": "error",
     "traceback": [
      "\u001b[1;31m---------------------------------------------------------------------------\u001b[0m",
      "\u001b[1;31mAttributeError\u001b[0m                            Traceback (most recent call last)",
      "Cell \u001b[1;32mIn[3], line 2\u001b[0m\n\u001b[0;32m      1\u001b[0m \u001b[38;5;66;03m# Definir el análisis de puentes de hidrógeno\u001b[39;00m\n\u001b[1;32m----> 2\u001b[0m hba \u001b[38;5;241m=\u001b[39m \u001b[43mHBA\u001b[49m\u001b[43m(\u001b[49m\u001b[43muniverse\u001b[49m\u001b[38;5;241;43m=\u001b[39;49m\u001b[43msel\u001b[49m\u001b[43m,\u001b[49m\u001b[43m \u001b[49m\u001b[43mdonors_sel\u001b[49m\u001b[38;5;241;43m=\u001b[39;49m\u001b[38;5;124;43m\"\u001b[39;49m\u001b[38;5;124;43mall\u001b[39;49m\u001b[38;5;124;43m\"\u001b[39;49m\u001b[43m,\u001b[49m\u001b[43m \u001b[49m\u001b[43macceptors_sel\u001b[49m\u001b[38;5;241;43m=\u001b[39;49m\u001b[38;5;124;43m\"\u001b[39;49m\u001b[38;5;124;43mall\u001b[39;49m\u001b[38;5;124;43m\"\u001b[39;49m\u001b[43m)\u001b[49m\n\u001b[0;32m      3\u001b[0m hba\u001b[38;5;241m.\u001b[39mrun()\n\u001b[0;32m      5\u001b[0m \u001b[38;5;66;03m# Obtener los resultados\u001b[39;00m\n",
      "File \u001b[1;32m~\\AppData\\Local\\Packages\\PythonSoftwareFoundation.Python.3.11_qbz5n2kfra8p0\\LocalCache\\local-packages\\Python311\\site-packages\\MDAnalysis\\analysis\\hydrogenbonds\\hbond_analysis.py:350\u001b[0m, in \u001b[0;36mHydrogenBondAnalysis.__init__\u001b[1;34m(self, universe, donors_sel, hydrogens_sel, acceptors_sel, between, d_h_cutoff, d_a_cutoff, d_h_a_angle_cutoff, update_selections)\u001b[0m\n\u001b[0;32m    281\u001b[0m \u001b[38;5;250m\u001b[39m\u001b[38;5;124;03m\"\"\"Set up atom selections and geometric criteria for finding hydrogen\u001b[39;00m\n\u001b[0;32m    282\u001b[0m \u001b[38;5;124;03mbonds in a Universe.\u001b[39;00m\n\u001b[0;32m    283\u001b[0m \n\u001b[1;32m   (...)\u001b[0m\n\u001b[0;32m    346\u001b[0m \u001b[38;5;124;03m    :mod:`multiprocessing` and :mod:`dask` backends.\u001b[39;00m\n\u001b[0;32m    347\u001b[0m \u001b[38;5;124;03m\"\"\"\u001b[39;00m\n\u001b[0;32m    349\u001b[0m \u001b[38;5;28mself\u001b[39m\u001b[38;5;241m.\u001b[39mu \u001b[38;5;241m=\u001b[39m universe\n\u001b[1;32m--> 350\u001b[0m \u001b[38;5;28mself\u001b[39m\u001b[38;5;241m.\u001b[39m_trajectory \u001b[38;5;241m=\u001b[39m \u001b[38;5;28;43mself\u001b[39;49m\u001b[38;5;241;43m.\u001b[39;49m\u001b[43mu\u001b[49m\u001b[38;5;241;43m.\u001b[39;49m\u001b[43mtrajectory\u001b[49m\n\u001b[0;32m    352\u001b[0m \u001b[38;5;28mself\u001b[39m\u001b[38;5;241m.\u001b[39mdonors_sel \u001b[38;5;241m=\u001b[39m donors_sel\u001b[38;5;241m.\u001b[39mstrip() \u001b[38;5;28;01mif\u001b[39;00m donors_sel \u001b[38;5;129;01mis\u001b[39;00m \u001b[38;5;129;01mnot\u001b[39;00m \u001b[38;5;28;01mNone\u001b[39;00m \u001b[38;5;28;01melse\u001b[39;00m donors_sel\n\u001b[0;32m    353\u001b[0m \u001b[38;5;28mself\u001b[39m\u001b[38;5;241m.\u001b[39mhydrogens_sel \u001b[38;5;241m=\u001b[39m hydrogens_sel\u001b[38;5;241m.\u001b[39mstrip() \u001b[38;5;28;01mif\u001b[39;00m hydrogens_sel \u001b[38;5;129;01mis\u001b[39;00m \u001b[38;5;129;01mnot\u001b[39;00m \u001b[38;5;28;01mNone\u001b[39;00m \u001b[38;5;28;01melse\u001b[39;00m hydrogens_sel\n",
      "File \u001b[1;32m~\\AppData\\Local\\Packages\\PythonSoftwareFoundation.Python.3.11_qbz5n2kfra8p0\\LocalCache\\local-packages\\Python311\\site-packages\\MDAnalysis\\core\\groups.py:2658\u001b[0m, in \u001b[0;36mAtomGroup.__getattr__\u001b[1;34m(self, attr)\u001b[0m\n\u001b[0;32m   2656\u001b[0m \u001b[38;5;28;01melif\u001b[39;00m attr \u001b[38;5;241m==\u001b[39m \u001b[38;5;124m'\u001b[39m\u001b[38;5;124mpositions\u001b[39m\u001b[38;5;124m'\u001b[39m:\n\u001b[0;32m   2657\u001b[0m     \u001b[38;5;28;01mraise\u001b[39;00m NoDataError(\u001b[38;5;124m'\u001b[39m\u001b[38;5;124mThis Universe has no coordinates\u001b[39m\u001b[38;5;124m'\u001b[39m)\n\u001b[1;32m-> 2658\u001b[0m \u001b[38;5;28;01mreturn\u001b[39;00m \u001b[38;5;28;43msuper\u001b[39;49m\u001b[43m(\u001b[49m\u001b[43mAtomGroup\u001b[49m\u001b[43m,\u001b[49m\u001b[43m \u001b[49m\u001b[38;5;28;43mself\u001b[39;49m\u001b[43m)\u001b[49m\u001b[38;5;241;43m.\u001b[39;49m\u001b[38;5;21;43m__getattr__\u001b[39;49m\u001b[43m(\u001b[49m\u001b[43mattr\u001b[49m\u001b[43m)\u001b[49m\n",
      "File \u001b[1;32m~\\AppData\\Local\\Packages\\PythonSoftwareFoundation.Python.3.11_qbz5n2kfra8p0\\LocalCache\\local-packages\\Python311\\site-packages\\MDAnalysis\\core\\groups.py:622\u001b[0m, in \u001b[0;36mGroupBase.__getattr__\u001b[1;34m(self, attr)\u001b[0m\n\u001b[0;32m    620\u001b[0m         \u001b[38;5;28;01mraise\u001b[39;00m NoDataError(err\u001b[38;5;241m.\u001b[39mformat(singular\u001b[38;5;241m=\u001b[39m\u001b[38;5;28mcls\u001b[39m\u001b[38;5;241m.\u001b[39msingular))\n\u001b[0;32m    621\u001b[0m \u001b[38;5;28;01melse\u001b[39;00m:\n\u001b[1;32m--> 622\u001b[0m     \u001b[38;5;28;01mreturn\u001b[39;00m \u001b[38;5;28;43msuper\u001b[39;49m\u001b[43m(\u001b[49m\u001b[43mGroupBase\u001b[49m\u001b[43m,\u001b[49m\u001b[43m \u001b[49m\u001b[38;5;28;43mself\u001b[39;49m\u001b[43m)\u001b[49m\u001b[38;5;241;43m.\u001b[39;49m\u001b[38;5;21;43m__getattr__\u001b[39;49m\u001b[43m(\u001b[49m\u001b[43mattr\u001b[49m\u001b[43m)\u001b[49m\n",
      "File \u001b[1;32m~\\AppData\\Local\\Packages\\PythonSoftwareFoundation.Python.3.11_qbz5n2kfra8p0\\LocalCache\\local-packages\\Python311\\site-packages\\MDAnalysis\\core\\groups.py:394\u001b[0m, in \u001b[0;36m_MutableBase.__getattr__\u001b[1;34m(self, attr)\u001b[0m\n\u001b[0;32m    392\u001b[0m     match \u001b[38;5;241m=\u001b[39m _TOPOLOGY_ATTRNAMES[clean]\n\u001b[0;32m    393\u001b[0m     err \u001b[38;5;241m+\u001b[39m\u001b[38;5;241m=\u001b[39m \u001b[38;5;124m'\u001b[39m\u001b[38;5;124mDid you mean \u001b[39m\u001b[38;5;132;01m{match}\u001b[39;00m\u001b[38;5;124m?\u001b[39m\u001b[38;5;124m'\u001b[39m\u001b[38;5;241m.\u001b[39mformat(match\u001b[38;5;241m=\u001b[39mmatch)\n\u001b[1;32m--> 394\u001b[0m \u001b[38;5;28;01mraise\u001b[39;00m \u001b[38;5;167;01mAttributeError\u001b[39;00m(err)\n",
      "\u001b[1;31mAttributeError\u001b[0m: AtomGroup has no attribute trajectory. "
     ]
    }
   ],
   "source": [
    "# Definir el análisis de puentes de hidrógeno\n",
    "hba = HBA(universe=sel, donors_sel=\"all\", acceptors_sel=\"all\")\n",
    "hba.run()\n",
    "\n",
    "# Obtener los resultados\n",
    "timeseries = hba.timeseries\n",
    "frames = hba.frames\n",
    "\n",
    "# Generar la gráfica\n",
    "plt.figure(figsize=(10, 6))\n",
    "plt.plot(frames, timeseries, label=\"Número de puentes de hidrógeno\")\n",
    "plt.xlabel('Frame')\n",
    "plt.ylabel('Número de puentes de hidrógeno')\n",
    "plt.title('Puentes de Hidrógeno a lo Largo de la Trayectoria')\n",
    "plt.legend()\n",
    "plt.grid(True)\n",
    "plt.show()"
   ]
  }
 ],
 "metadata": {
  "kernelspec": {
   "display_name": "Python 3",
   "language": "python",
   "name": "python3"
  },
  "language_info": {
   "codemirror_mode": {
    "name": "ipython",
    "version": 3
   },
   "file_extension": ".py",
   "mimetype": "text/x-python",
   "name": "python",
   "nbconvert_exporter": "python",
   "pygments_lexer": "ipython3",
   "version": "3.11.9"
  }
 },
 "nbformat": 4,
 "nbformat_minor": 2
}
